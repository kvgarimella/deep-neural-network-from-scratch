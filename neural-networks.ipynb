{
 "cells": [
  {
   "cell_type": "markdown",
   "metadata": {},
   "source": [
    "# Deep Neural Networks\n",
    "In this notebook, we will be building a neural network from scratch. It's going to be a simple neural network with only forward weights. With that respect, it will be a *feed-forward* neural network. Most of this material will be adapted from the book, [Learning from Data](http://amlbook.com/). \n",
    "\n",
    "## The Structure\n",
    "Picture from Learning From Data, Chapter 7 by AML."
   ]
  },
  {
   "cell_type": "markdown",
   "metadata": {},
   "source": [
    "<img src=\"nn.png\">"
   ]
  },
  {
   "cell_type": "markdown",
   "metadata": {},
   "source": [
    "Let's get the notation down. First, the neural network above has **three** layers. We don't count the input layer, because it is usually just the raw data. Each layer has a certain number of nodes. For example, the $l=2$ layer above has $3$ nodes. In general, layer $l$ will have $d^{(l)} + 1$ nodes. The $+1$ results from the bias node. Now, let's name each node. For example, the last node on layer $l=0$ can be written as $x^{(0)}_{d^{(0)}}$. We also need to define the weights. $w^{(l)}_{ij}$ refers to the weight that connects $x^{(l-1)}_{i}$ to $x^{(l)}_{j}$. So summarizing this all in bullets\n",
    "* $x^{(l)}_{i}$ is the *i*th node from layer $l$\n",
    "* Each layer $l$ has $d^{(l)} + 1$ nodes\n",
    "\n",
    "The following our bounds on $w^{(l)}_{ij}$, the weight that connects $x^{(l-1)}_{i}$ to $x^{(l)}_{j}$:\n",
    "* $0 \\le i \\le d^{(l-1)}$\n",
    "* $1 \\le j \\le d^{(l)}$\n",
    "* $0 \\le l \\le L$\n",
    "\n",
    "Notice how $j$ is lower bounded by $1$. In the above diagram, no weights are going into the bias nodes. This is convention we will use for our deep neural network.\n",
    "## Imports ##\n",
    "We will only be using *numpy* for vectorization and perhaps *matplotlib* for plotting. We will code forward and back propogation from scratch."
   ]
  },
  {
   "cell_type": "code",
   "execution_count": 35,
   "metadata": {
    "collapsed": true
   },
   "outputs": [],
   "source": [
    "import numpy as np\n",
    "import matplotlib.pyplot as plt\n",
    "\n",
    "%matplotlib inline"
   ]
  },
  {
   "cell_type": "markdown",
   "metadata": {},
   "source": [
    "## MNIST DATA ##\n",
    "We will be making use of the mnist hand-written digits dataset. You can run ** pip install mnist** to get this package. The following cell block will load the train/test images and associated labels."
   ]
  },
  {
   "cell_type": "code",
   "execution_count": 3,
   "metadata": {
    "collapsed": true
   },
   "outputs": [],
   "source": [
    "import mnist\n",
    "\n",
    "train_images = mnist.train_images()\n",
    "train_labels = mnist.train_labels()\n",
    "\n",
    "test_images = mnist.test_images()\n",
    "test_labels = mnist.test_labels()"
   ]
  },
  {
   "cell_type": "code",
   "execution_count": 7,
   "metadata": {},
   "outputs": [
    {
     "name": "stdout",
     "output_type": "stream",
     "text": [
      "255 255\n",
      "0 0\n"
     ]
    }
   ],
   "source": [
    "print(train_images.max(), test_images.max())\n",
    "print(train_images.min(), test_images.min())"
   ]
  },
  {
   "cell_type": "markdown",
   "metadata": {},
   "source": [
    "I'm going to normalize these images so that our data points are strictly between 0 and 1."
   ]
  },
  {
   "cell_type": "code",
   "execution_count": 8,
   "metadata": {
    "collapsed": true
   },
   "outputs": [],
   "source": [
    "train_images = train_images / train_images.max()\n",
    "test_images  = test_images  / test_images.max()"
   ]
  },
  {
   "cell_type": "code",
   "execution_count": 9,
   "metadata": {},
   "outputs": [
    {
     "data": {
      "text/plain": [
       "(60000, 28, 28)"
      ]
     },
     "execution_count": 9,
     "metadata": {},
     "output_type": "execute_result"
    }
   ],
   "source": [
    "train_images.shape"
   ]
  },
  {
   "cell_type": "code",
   "execution_count": 10,
   "metadata": {},
   "outputs": [
    {
     "data": {
      "text/plain": [
       "(10000, 28, 28)"
      ]
     },
     "execution_count": 10,
     "metadata": {},
     "output_type": "execute_result"
    }
   ],
   "source": [
    "test_images.shape"
   ]
  },
  {
   "cell_type": "markdown",
   "metadata": {},
   "source": [
    "So we have 60,000 training images and 10,000 test images. Let's plot one of the training images just to see what it looks like."
   ]
  },
  {
   "cell_type": "code",
   "execution_count": 14,
   "metadata": {},
   "outputs": [
    {
     "name": "stdout",
     "output_type": "stream",
     "text": [
      "Label for train_images[1000]: 0\n"
     ]
    },
    {
     "data": {
      "text/plain": [
       "<matplotlib.image.AxesImage at 0x13b999400>"
      ]
     },
     "execution_count": 14,
     "metadata": {},
     "output_type": "execute_result"
    },
    {
     "data": {
      "image/png": "[encoded data removed]",
      "text/plain": [
       "<matplotlib.figure.Figure at 0x13b8e26a0>"
      ]
     },
     "metadata": {},
     "output_type": "display_data"
    }
   ],
   "source": [
    "print(\"Label for train_images[1000]: %d\" % train_labels[1000])\n",
    "plt.imshow(train_images[1000], cmap='gray')"
   ]
  },
  {
   "cell_type": "markdown",
   "metadata": {},
   "source": [
    "Great, we can see that the image is clearly a zero and the label matches. Let's analyze one training image a bit further."
   ]
  },
  {
   "cell_type": "code",
   "execution_count": 15,
   "metadata": {},
   "outputs": [
    {
     "data": {
      "text/plain": [
       "(28, 28)"
      ]
     },
     "execution_count": 15,
     "metadata": {},
     "output_type": "execute_result"
    }
   ],
   "source": [
    "train_images[1000].shape"
   ]
  },
  {
   "cell_type": "markdown",
   "metadata": {},
   "source": [
    "So we have a 28 by 28 grid of pixel values between 0 and 1. I would like this to be the input to our deep neural network. Therefore, our zeroth layer will have 785 nodes (28 x 28 + 1)."
   ]
  },
  {
   "cell_type": "markdown",
   "metadata": {},
   "source": [
    "# Coding a Deep Neural Network"
   ]
  },
  {
   "cell_type": "markdown",
   "metadata": {},
   "source": [
    "Our network will have 784, 16, 16, and 10 nodes in each layer (excluding the bias node except for the last layer). The last layer has 10 nodes, each node representing the probability that the input images corresponds to that digit. To squeeze a function into a probabalistic model, we will use the sigmoid function for the last layer and $tanh$ function for all other layers."
   ]
  },
  {
   "cell_type": "code",
   "execution_count": 26,
   "metadata": {},
   "outputs": [
    {
     "name": "stdout",
     "output_type": "stream",
     "text": [
      "4\n"
     ]
    }
   ],
   "source": [
    "d = {0:784, 1:16, 2:16, 3:10}\n",
    "num_layers = len(d) - 1\n",
    "print(len(d))"
   ]
  },
  {
   "cell_type": "markdown",
   "metadata": {},
   "source": [
    "\n",
    "We will be using $tanh(x)$ as the activation functions for all but the last layer. It has some nice properties (ranges from -1 to 1 and is differentiable). Also the derivative of $tanh(x)$ is $1 - tanh(x)^2$. Recall to set the weights to small random numbers as our function is not convex; we don't want to get stuck at a local minima."
   ]
  },
  {
   "cell_type": "code",
   "execution_count": 27,
   "metadata": {
    "collapsed": true
   },
   "outputs": [],
   "source": [
    "W       = {}\n",
    "S       = {}\n",
    "X       = {}\n",
    "deltas  = {}  \n",
    "grads   = {}\n",
    "for l in range(1,len(d)):\n",
    "    W[l]      = np.random.normal(0,0.1,(d[l-1] + 1, d[l]))\n",
    "    grads[l]  = np.zeros((d[l-1] + 1, d[l]))\n",
    "    S[l]      = np.zeros((d[l],1))\n",
    "    X[l]      = np.ones((d[l] + 1,1))\n",
    "    deltas[l] = np.zeros((d[l],1))\n",
    "X[0] = np.ones((d[0] + 1,1))"
   ]
  },
  {
   "cell_type": "code",
   "execution_count": 28,
   "metadata": {
    "collapsed": true
   },
   "outputs": [],
   "source": [
    "def h(x):\n",
    "    feed_forward(x, W, S)\n",
    "    return X[num_layers][1:]"
   ]
  },
  {
   "cell_type": "code",
   "execution_count": 29,
   "metadata": {
    "collapsed": true
   },
   "outputs": [],
   "source": [
    "def theta(x):\n",
    "    return np.tanh(x)\n",
    "\n",
    "def theta_prime(x):\n",
    "    return 1 - np.tanh(x)*np.tanh(x)\n",
    "\n",
    "def sigmoid(x):\n",
    "    return 1 / (1 + np.exp(-x))\n",
    "\n",
    "def sigmoid_prime(x):\n",
    "    return 1 / (1 + np.exp(-x)) * (1 - 1 / (1 + np.exp(-x)))"
   ]
  },
  {
   "cell_type": "markdown",
   "metadata": {},
   "source": [
    "### Feed Forward ###"
   ]
  },
  {
   "cell_type": "code",
   "execution_count": 30,
   "metadata": {
    "collapsed": true
   },
   "outputs": [],
   "source": [
    "def feed_forward(x, W, S):\n",
    "    X[0] = x.reshape(X[0].shape[0], 1)\n",
    "    for l in range(1, len(d)):\n",
    "        S[l] = np.matmul(W[l].T, X[l-1]).reshape(S[l].shape[0], 1)\n",
    "#         X[l][1:] = sigmoid(S[l])\n",
    "        if l == num_layers:\n",
    "            X[l][1:] = sigmoid(S[l])\n",
    "        else:\n",
    "            X[l][1:] = theta(S[l])"
   ]
  },
  {
   "cell_type": "markdown",
   "metadata": {},
   "source": [
    "### Back Prop ###\n",
    "The minimizer of deep neural networks. Here, we are using dynamic programming to speed up the computation."
   ]
  },
  {
   "cell_type": "code",
   "execution_count": 31,
   "metadata": {
    "collapsed": true
   },
   "outputs": [],
   "source": [
    "def back_prop(deltas, X, S):\n",
    "    for l in range(num_layers - 1, 0, -1):\n",
    "        deltas[l] = sigmoid_prime(S[l]) * np.matmul(W[l + 1][1:], deltas[l+1])\n",
    "        grads[l]  = np.matmul(X[l-1], deltas[l].T)"
   ]
  },
  {
   "cell_type": "markdown",
   "metadata": {},
   "source": [
    "### Stochastic Gradient Descent ###\n",
    "\n",
    "We will put feed forward and back prop into our stochastic grad descent. We use stochastic to decrease overall runtime and help us avoid being trapped in local extrema."
   ]
  },
  {
   "cell_type": "code",
   "execution_count": 32,
   "metadata": {
    "collapsed": true
   },
   "outputs": [],
   "source": [
    "def StochasticGradientDescent(W, S, deltas, eta, iterations):\n",
    "    num = iterations // 2\n",
    "    for i in range(iterations):\n",
    "        if i == num:\n",
    "            print(\"halfway through.\")\n",
    "        idx = np.random.randint(0, train_images.shape[0])\n",
    "        x = np.append([1], train_images[idx].flatten())\n",
    "        curr_y = np.zeros((10,1))\n",
    "        curr_y[train_labels[idx]] = 1\n",
    "        feed_forward(x, W, S) \n",
    "        deltas[num_layers] = 2 * (X[num_layers][1:] - curr_y) * sigmoid_prime(S[num_layers])\n",
    "        grads[num_layers] = np.matmul(X[num_layers-1], deltas[num_layers].T)\n",
    "        back_prop(deltas, X, S)\n",
    "        for l in range(1,len(d)):\n",
    "            W[l] = W[l] - eta * grads[l]"
   ]
  },
  {
   "cell_type": "markdown",
   "metadata": {},
   "source": [
    "# Running Stochastic Gradient Descent (takes time to run)\n",
    "\n",
    "This function takes around 1 hour to run on my machine. Again, there will inefficiences as this was coded from scratch. A package like tensorflow or keras would be much faster."
   ]
  },
  {
   "cell_type": "code",
   "execution_count": 178,
   "metadata": {},
   "outputs": [
    {
     "name": "stdout",
     "output_type": "stream",
     "text": [
      "halfway through.\n"
     ]
    }
   ],
   "source": [
    "StochasticGradientDescent(W, S, deltas, eta=0.1, iterations=10000000) "
   ]
  },
  {
   "cell_type": "markdown",
   "metadata": {},
   "source": [
    "## Save the weights ##\n",
    "Let's save the weights for later use."
   ]
  },
  {
   "cell_type": "code",
   "execution_count": 38,
   "metadata": {
    "collapsed": true
   },
   "outputs": [],
   "source": [
    "# np.save(\"weights.dict\", W)\n",
    "# read_dictionary = np.load('weights.dict.npy').item()\n",
    "# W = read_dictionary"
   ]
  },
  {
   "cell_type": "markdown",
   "metadata": {},
   "source": [
    "# Testing the Deep Neural Network\n",
    "Overall, we see a 6.08% training error and a 6.83 test error! So it classified most images correctly."
   ]
  },
  {
   "cell_type": "code",
   "execution_count": 45,
   "metadata": {},
   "outputs": [
    {
     "name": "stdout",
     "output_type": "stream",
     "text": [
      "Training Error: 0.0608\n"
     ]
    }
   ],
   "source": [
    "total = 0\n",
    "import warnings\n",
    "warnings.filterwarnings('ignore')\n",
    "for i in range(len(train_images)):\n",
    "    curr_x = np.append([1], train_images[i].flatten())\n",
    "    curr_y = train_labels[i]\n",
    "    if np.argmax(h(curr_x)) == curr_y:\n",
    "        total += 1\n",
    "print(\"Training Error:\",  (len(train_images) - total)/len(train_images))"
   ]
  },
  {
   "cell_type": "code",
   "execution_count": 46,
   "metadata": {},
   "outputs": [
    {
     "name": "stdout",
     "output_type": "stream",
     "text": [
      "Test Error: 0.0683\n"
     ]
    }
   ],
   "source": [
    "total = 0\n",
    "incorrect_idx = []\n",
    "for i in range(len(test_images)):\n",
    "    curr_x = np.append([1], test_images[i].flatten())\n",
    "    curr_y = test_labels[i]\n",
    "    if (np.argmax(h(curr_x))) == curr_y:\n",
    "        total +=1\n",
    "    else:\n",
    "        incorrect_idx.append(i)\n",
    "print(\"Test Error:\",  (len(test_images) - total)/len(test_images))"
   ]
  },
  {
   "cell_type": "markdown",
   "metadata": {},
   "source": [
    "## Plotting an incorrect Image ##\n",
    "Here, we see that the deep neural network chose to label this image as a 9 instead of a 7."
   ]
  },
  {
   "cell_type": "code",
   "execution_count": 51,
   "metadata": {
    "scrolled": true
   },
   "outputs": [
    {
     "data": {
      "text/plain": [
       "<matplotlib.image.AxesImage at 0x13bd8af98>"
      ]
     },
     "execution_count": 51,
     "metadata": {},
     "output_type": "execute_result"
    },
    {
     "data": {
      "image/png": "[encoded data removed]",
      "text/plain": [
       "<matplotlib.figure.Figure at 0x13bce7a58>"
      ]
     },
     "metadata": {},
     "output_type": "display_data"
    }
   ],
   "source": [
    "i = 100\n",
    "plt.imshow(test_images[incorrect_idx[i]], cmap='gray')"
   ]
  },
  {
   "cell_type": "code",
   "execution_count": 52,
   "metadata": {},
   "outputs": [
    {
     "data": {
      "text/plain": [
       "7"
      ]
     },
     "execution_count": 52,
     "metadata": {},
     "output_type": "execute_result"
    }
   ],
   "source": [
    "test_labels[incorrect_idx[i]]"
   ]
  },
  {
   "cell_type": "code",
   "execution_count": 53,
   "metadata": {},
   "outputs": [
    {
     "data": {
      "text/plain": [
       "9"
      ]
     },
     "execution_count": 53,
     "metadata": {},
     "output_type": "execute_result"
    }
   ],
   "source": [
    "np.argmax(h(np.append([1], test_images[incorrect_idx[i]].flatten())))"
   ]
  }
 ],
 "metadata": {
  "kernelspec": {
   "display_name": "Python 3",
   "language": "python",
   "name": "python3"
  },
  "language_info": {
   "codemirror_mode": {
    "name": "ipython",
    "version": 3
   },
   "file_extension": ".py",
   "mimetype": "text/x-python",
   "name": "python",
   "nbconvert_exporter": "python",
   "pygments_lexer": "ipython3",
   "version": "3.6.1"
  }
 },
 "nbformat": 4,
 "nbformat_minor": 2
}
